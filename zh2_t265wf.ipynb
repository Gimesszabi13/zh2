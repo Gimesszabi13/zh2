{
    "metadata": {
        "kernelspec": {
            "name": "SQL",
            "display_name": "SQL",
            "language": "sql"
        },
        "language_info": {
            "name": "sql",
            "version": ""
        }
    },
    "nbformat_minor": 2,
    "nbformat": 4,
    "cells": [
        {
            "cell_type": "code",
            "source": [
                "SELECT \r\n",
                "    tipus AS Szállástípus, \r\n",
                "    hely AS Hely, \r\n",
                "    ROUND(AVG(csillagok_szama), 2) AS 'Átlagos Csillagszám'\r\n",
                "FROM \r\n",
                "    szallashely\r\n",
                "WHERE \r\n",
                "    szallas_nev NOT LIKE '%-%'\r\n",
                "GROUP BY \r\n",
                "    tipus, hely;"
            ],
            "metadata": {
                "azdata_cell_guid": "43db353c-05ec-4f68-a6df-fb79135a669e",
                "language": "sql"
            },
            "outputs": [],
            "execution_count": null
        },
        {
            "cell_type": "code",
            "source": [
                "SELECT \r\n",
                "    foglalas.szoba_fk AS 'SzobaID', \r\n",
                "    foglalas.FOGLALAS_PK AS 'FoglalásID', \r\n",
                "    DATEDIFF(day, foglalas.METTOL, foglalas.MEDDIG) AS Idotartam,\r\n",
                "    CASE \r\n",
                "        WHEN lag(foglalas.MEDDIG) OVER (PARTITION BY foglalas.szoba_fk ORDER BY foglalas.MEDDIG) IS NULL THEN 0\r\n",
                "        ELSE DATEDIFF(day, lag(foglalas.MEDDIG) OVER (PARTITION BY foglalas.szoba_fk ORDER BY foglalas.MEDDIG), foglalas.METTOL)\r\n",
                "    END AS ElőzőIdőtartam\r\n",
                "FROM \r\n",
                "    foglalas;"
            ],
            "metadata": {
                "azdata_cell_guid": "b4a7cd64-4466-4602-b233-693fd28f7ef5",
                "language": "sql"
            },
            "outputs": [],
            "execution_count": null
        },
        {
            "cell_type": "code",
            "source": [
                "\r\n",
                "SELECT SZALLAS_ID, SZALLAS_NEV, csillagok_szama,\r\n",
                "\r\n",
                "IIF(csillagok_szama >= 3, 'Igen', 'Nem') AS 'Legalább 3 csillagos_e' \r\n",
                "\r\n",
                "\r\n",
                "\r\n",
                "FROM Szallashely \r\n",
                "\r\n",
                "WHERE SZALLAS_ID IN\r\n",
                "( \r\n",
                "\r\n",
                "SELECT  \r\n",
                "szallas_fk\r\n",
                "\r\n",
                "FROM Szoba \r\n",
                "\r\n",
                "WHERE ferohely <> 3\r\n",
                "\r\n",
                "\r\n",
                ")"
            ],
            "metadata": {
                "azdata_cell_guid": "3cbea0dd-6bea-4418-aea6-8888c41b5657",
                "language": "sql"
            },
            "outputs": [],
            "execution_count": null
        }
    ]
}